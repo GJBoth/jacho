{
 "cells": [
  {
   "cell_type": "code",
   "execution_count": 1,
   "id": "327f8025-2602-4ac5-982a-8a972ce47156",
   "metadata": {},
   "outputs": [],
   "source": [
    "from jacho.data.KS import KS\n",
    "from jax import random\n",
    "import numpy as np\n",
    "import jax.numpy as jnp\n",
    "import matplotlib.pyplot as plt\n",
    "\n",
    "from jacho.recurrent_kernel import RecurrentKernel, erf_kernel, train\n",
    "import jax\n",
    "\n",
    "key = random.PRNGKey(42)\n",
    "\n",
    "%load_ext autoreload \n",
    "%autoreload 2"
   ]
  },
  {
   "cell_type": "code",
   "execution_count": 2,
   "id": "8e6b3ee8-bcd4-4f79-ac67-998d3a8f3ad6",
   "metadata": {},
   "outputs": [],
   "source": [
    "# Setting up our dataset; similar to jonathans\n",
    "L = 22 / (2 * np.pi)  # length\n",
    "N = 100  # space discretization step\n",
    "dt = 0.25  # time discretization step\n",
    "N_train = 10000\n",
    "N_test = 2000\n",
    "N_init = 1000  # remove the initial points\n",
    "tend = (N_train + N_test + N_init) * dt\n",
    "\n",
    "np.random.seed(1)\n",
    "dns = KS(L=L, N=N, dt=dt, tend=tend)\n",
    "dns.simulate()"
   ]
  },
  {
   "cell_type": "code",
   "execution_count": 3,
   "id": "0004fb13-3576-4a5f-a335-cb5d1bb4b219",
   "metadata": {},
   "outputs": [],
   "source": [
    "# Prepping train and test matrices\n",
    "# inputs need to be size [time_steps, samples, spatial_points]\n",
    "# i.e. here they are [10000, 1, 100]\n",
    "u = np.expand_dims(dns.uu, axis=1)\n",
    "_, u_train, u_test, _ = np.split(u / np.sqrt(N), \n",
    "                                     [N_init, \n",
    "                                     (N_init + N_train), \n",
    "                                     (N_init + N_train + N_test)], axis=0)\n",
    "\n",
    "data_train = jnp.array(u_train).squeeze()"
   ]
  },
  {
   "cell_type": "code",
   "execution_count": 4,
   "id": "f0421443-5562-4fe2-8491-4b45bbea8bfe",
   "metadata": {},
   "outputs": [],
   "source": [
    "model = RecurrentKernel(erf_kernel, 50, 0.11, (0.4, 0.9, 0.4))\n",
    "key = random.PRNGKey(42)\n",
    "params = model.init(key, data_train)"
   ]
  },
  {
   "cell_type": "code",
   "execution_count": 5,
   "id": "ce00b489-316a-41f2-aedf-714a264da674",
   "metadata": {},
   "outputs": [
    {
     "name": "stdout",
     "output_type": "stream",
     "text": [
      "CPU times: user 479 ms, sys: 6.7 ms, total: 485 ms\n",
      "Wall time: 331 ms\n"
     ]
    },
    {
     "data": {
      "text/plain": [
       "(DeviceArray([[ 0.60640585,  0.61151636,  0.6118308 , ..., -0.01088944,\n",
       "               -0.01329822, -0.01613138],\n",
       "              [ 0.61151636,  0.6199425 ,  0.6230434 , ..., -0.01633611,\n",
       "               -0.01896527, -0.02206979],\n",
       "              [ 0.6118308 ,  0.6230434 ,  0.62858725, ..., -0.02022448,\n",
       "               -0.0230303 , -0.02635325],\n",
       "              ...,\n",
       "              [-0.01088944, -0.01633611, -0.02022448, ...,  0.59040874,\n",
       "                0.59039456,  0.5900205 ],\n",
       "              [-0.01329822, -0.01896527, -0.0230303 , ...,  0.59039456,\n",
       "                0.59103835,  0.5912999 ],\n",
       "              [-0.01613138, -0.02206979, -0.02635325, ...,  0.5900205 ,\n",
       "                0.5912999 ,  0.59218425]], dtype=float32),\n",
       " (DeviceArray([0.39128733, 0.6236106 , 0.6898669 , ..., 0.75403154,\n",
       "               0.7547277 , 0.7560507 ], dtype=float32),\n",
       "  DeviceArray([0.04914648, 0.06789958, 0.07692064, ..., 0.41008553,\n",
       "               0.41082403, 0.41120026], dtype=float32),\n",
       "  DeviceArray(0.41120026, dtype=float32)))"
      ]
     },
     "execution_count": 5,
     "metadata": {},
     "output_type": "execute_result"
    }
   ],
   "source": [
    "%%time\n",
    "model.apply(params, data_train, method=model.train_kernel)"
   ]
  },
  {
   "cell_type": "code",
   "execution_count": 6,
   "id": "90e39525-5f26-443c-8af2-f7c4b4b41e7a",
   "metadata": {},
   "outputs": [],
   "source": [
    "model_state = train(model, params, data_train, alpha=1e-2)"
   ]
  },
  {
   "cell_type": "code",
   "execution_count": 7,
   "id": "781c8703-7308-45e2-ba4b-18c0f9581ed9",
   "metadata": {},
   "outputs": [],
   "source": [
    "prediction = model.apply(params, data_train, model_state, length=2000, method=model.predict)"
   ]
  },
  {
   "cell_type": "code",
   "execution_count": 8,
   "id": "2a18b4c9-5fa3-423f-aab7-0dedcffc78c8",
   "metadata": {},
   "outputs": [
    {
     "data": {
      "text/plain": [
       "<matplotlib.image.AxesImage at 0x7f2dd8560ca0>"
      ]
     },
     "execution_count": 8,
     "metadata": {},
     "output_type": "execute_result"
    },
    {
     "data": {
      "image/png": "[encoded data removed]",
      "text/plain": [
       "<Figure size 432x288 with 1 Axes>"
      ]
     },
     "metadata": {
      "needs_background": "light"
     },
     "output_type": "display_data"
    }
   ],
   "source": [
    "plt.imshow(prediction[:200])"
   ]
  },
  {
   "cell_type": "code",
   "execution_count": 9,
   "id": "87843e77-d04a-467c-9a37-253780bda7cd",
   "metadata": {},
   "outputs": [
    {
     "data": {
      "text/plain": [
       "DeviceArray([[ 0.60640585,  0.61151636,  0.6118308 , ..., -0.01088944,\n",
       "              -0.01329822, -0.01613138],\n",
       "             [ 0.61151636,  0.6199425 ,  0.6230434 , ..., -0.01633611,\n",
       "              -0.01896527, -0.02206979],\n",
       "             [ 0.6118308 ,  0.6230434 ,  0.62858725, ..., -0.02022448,\n",
       "              -0.0230303 , -0.02635325],\n",
       "             ...,\n",
       "             [-0.01088944, -0.01633611, -0.02022448, ...,  0.59040874,\n",
       "               0.59039456,  0.5900205 ],\n",
       "             [-0.01329822, -0.01896527, -0.0230303 , ...,  0.59039456,\n",
       "               0.59103835,  0.5912999 ],\n",
       "             [-0.01613138, -0.02206979, -0.02635325, ...,  0.5900205 ,\n",
       "               0.5912999 ,  0.59218425]], dtype=float32)"
      ]
     },
     "execution_count": 9,
     "metadata": {},
     "output_type": "execute_result"
    }
   ],
   "source": [
    "f = jax.jit(lambda: model.apply(params, data_train, method=model.train_kernel)[0])\n",
    "f()"
   ]
  },
  {
   "cell_type": "code",
   "execution_count": 10,
   "id": "699c5b75-acaa-46b7-9c95-c52a36bbbd2e",
   "metadata": {},
   "outputs": [
    {
     "name": "stdout",
     "output_type": "stream",
     "text": [
      "174 ms ± 152 µs per loop (mean ± std. dev. of 7 runs, 10 loops each)\n"
     ]
    }
   ],
   "source": [
    "%%timeit\n",
    "f().block_until_ready()"
   ]
  },
  {
   "cell_type": "code",
   "execution_count": null,
   "id": "52651567-1532-4c04-98f4-0b4a11a01565",
   "metadata": {},
   "outputs": [],
   "source": []
  },
  {
   "cell_type": "code",
   "execution_count": null,
   "id": "ffaec0ae-f50d-4c6d-bd3f-3b4b05c8071c",
   "metadata": {},
   "outputs": [],
   "source": []
  }
 ],
 "metadata": {
  "kernelspec": {
   "display_name": "Python 3",
   "language": "python",
   "name": "python3"
  },
  "language_info": {
   "codemirror_mode": {
    "name": "ipython",
    "version": 3
   },
   "file_extension": ".py",
   "mimetype": "text/x-python",
   "name": "python",
   "nbconvert_exporter": "python",
   "pygments_lexer": "ipython3",
   "version": "3.8.5"
  }
 },
 "nbformat": 4,
 "nbformat_minor": 5
}
