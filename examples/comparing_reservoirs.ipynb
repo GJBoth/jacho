{
 "cells": [
  {
   "cell_type": "markdown",
   "id": "quarterly-tooth",
   "metadata": {},
   "source": [
    "This notebook shows how to run and compare different reservoirs."
   ]
  },
  {
   "cell_type": "code",
   "execution_count": 1,
   "id": "western-spoke",
   "metadata": {},
   "outputs": [
    {
     "output_type": "stream",
     "name": "stderr",
     "text": [
      "<frozen importlib._bootstrap>:219: RuntimeWarning: numpy.ufunc size changed, may indicate binary incompatibility. Expected 192 from C header, got 216 from PyObject\n"
     ]
    }
   ],
   "source": [
    "from jacho.layers.reservoirs import RandomReservoir, FastStructuredTransform, SparseReservoir\n",
    "from jacho.models.generic import GenericEchoState\n",
    "from jacho.layers.output import Residual\n",
    "from jacho.training.training import ridge\n",
    "from jacho.data.KS import KS\n",
    "\n",
    "from jax import random\n",
    "import numpy as np\n",
    "import jax.numpy as jnp\n",
    "\n",
    "import matplotlib.pyplot as plt\n",
    "\n",
    "key = random.PRNGKey(42)"
   ]
  },
  {
   "cell_type": "code",
   "execution_count": 2,
   "id": "soviet-affairs",
   "metadata": {},
   "outputs": [],
   "source": [
    "# Setting up our dataset; similar to jonathans\n",
    "L = 22 / (2 * np.pi)  # length\n",
    "N = 100  # space discretization step\n",
    "dt = 0.25  # time discretization step\n",
    "N_train = 10000\n",
    "N_test = 2000\n",
    "N_init = 1000  # remove the initial points\n",
    "tend = (N_train + N_test) * dt + N_init\n",
    "\n",
    "np.random.seed(1)\n",
    "dns = KS(L=L, N=N, dt=dt, tend=tend)\n",
    "dns.simulate()"
   ]
  },
  {
   "cell_type": "code",
   "execution_count": 3,
   "id": "reliable-russell",
   "metadata": {},
   "outputs": [],
   "source": [
    "# Prepping train and test matrices\n",
    "# inputs need to be size [time_steps, samples, spatial_points]\n",
    "# i.e. here they are [10000, 1, 100]\n",
    "u = np.expand_dims(dns.uu, axis=1)\n",
    "_, u_train, u_test, _ = np.split(u / np.sqrt(N), \n",
    "                                     [N_init, \n",
    "                                     (N_init + N_train), \n",
    "                                     (N_init + N_train + N_test)], axis=0)"
   ]
  },
  {
   "cell_type": "code",
   "execution_count": 8,
   "id": "separate-toyota",
   "metadata": {},
   "outputs": [],
   "source": [
    "# Setting up random model\n",
    "n_reservoir = 10000\n",
    "reservoir_args = (0.4, 0.9, 0.1) #input_scale, reservoir_scale, bias_scale\n",
    "\n",
    "n_out = u_train.shape[-1]\n",
    "norm_factor = 1.1 * jnp.sqrt(n_out / n_reservoir)\n",
    "output_layer_args = (norm_factor, )\n",
    "\n",
    "model = GenericEchoState(n_reservoir, RandomReservoir, reservoir_args,\n",
    "                  n_out, Residual, output_layer_args)\n",
    "\n",
    "\n",
    "\n",
    "state = model.initialize_state(key, n_reservoir)\n",
    "params = model.init(key, state, u_train[0]) # initializing the parameters and state"
   ]
  },
  {
   "cell_type": "code",
   "execution_count": 9,
   "id": "sophisticated-receptor",
   "metadata": {},
   "outputs": [
    {
     "output_type": "stream",
     "name": "stdout",
     "text": [
      "CPU times: user 5.55 s, sys: 4.62 s, total: 10.2 s\nWall time: 10.1 s\n"
     ]
    }
   ],
   "source": [
    "%%time\n",
    "new_state, intermediate_states = model.apply(params, state, u_train, method=model.run_reservoir)"
   ]
  },
  {
   "cell_type": "code",
   "execution_count": 6,
   "id": "requested-mortality",
   "metadata": {},
   "outputs": [],
   "source": [
    "# Setting up structured model\n",
    "n_reservoir = 10000\n",
    "reservoir_args = (0.4, 0.9, 0.1) #input_scale, reservoir_scale, bias_scale\n",
    "\n",
    "n_out = u_train.shape[-1]\n",
    "norm_factor = 1.1 * jnp.sqrt(n_out / n_reservoir)\n",
    "output_layer_args = (norm_factor, )\n",
    "\n",
    "model = GenericEchoState(n_reservoir, FastStructuredTransform, reservoir_args,\n",
    "                  n_out, Residual, output_layer_args)\n",
    "\n",
    "state = model.initialize_state(key, n_reservoir)\n",
    "params = model.init(key, state, u_train[0]) # initializing the parameters and state"
   ]
  },
  {
   "cell_type": "code",
   "execution_count": 7,
   "metadata": {},
   "outputs": [
    {
     "output_type": "stream",
     "name": "stdout",
     "text": [
      "CPU times: user 2.3 s, sys: 8.41 ms, total: 2.31 s\nWall time: 1.63 s\n"
     ]
    }
   ],
   "source": [
    "%%time\n",
    "new_state, intermediate_states = model.apply(params, state, u_train, method=model.run_reservoir)"
   ]
  },
  {
   "cell_type": "code",
   "execution_count": 11,
   "metadata": {},
   "outputs": [],
   "source": [
    "# Setting up sparse model model\n",
    "n_reservoir = 10000\n",
    "reservoir_args = (0.05, 0.4, 0.9, 0.1) #sparsity level, input_scale, reservoir_scale, bias_scale\n",
    "\n",
    "n_out = u_train.shape[-1]\n",
    "norm_factor = 1.1 * jnp.sqrt(n_out / n_reservoir)\n",
    "output_layer_args = (norm_factor, )\n",
    "\n",
    "model = GenericEchoState(n_reservoir, SparseReservoir, reservoir_args,\n",
    "                  n_out, Residual, output_layer_args)\n",
    "\n",
    "state = model.initialize_state(key, n_reservoir)\n",
    "params = model.init(key, state, u_train[0]) # initializing the parameters and state"
   ]
  },
  {
   "cell_type": "code",
   "execution_count": 12,
   "metadata": {},
   "outputs": [
    {
     "output_type": "stream",
     "name": "stdout",
     "text": [
      "CPU times: user 1.86 s, sys: 1.24 s, total: 3.1 s\nWall time: 3.05 s\n"
     ]
    }
   ],
   "source": [
    "%%time\n",
    "new_state, intermediate_states = model.apply(params, state, u_train, method=model.run_reservoir)"
   ]
  },
  {
   "cell_type": "code",
   "execution_count": null,
   "metadata": {},
   "outputs": [],
   "source": []
  }
 ],
 "metadata": {
  "kernelspec": {
   "name": "python383jvsc74a57bd099e98cd9ef2c575902ac7952687366b556b314a5e0c329e5311b2e7c6c1d45d3",
   "display_name": "Python 3.8.3 64-bit ('base': conda)"
  },
  "language_info": {
   "codemirror_mode": {
    "name": "ipython",
    "version": 3
   },
   "file_extension": ".py",
   "mimetype": "text/x-python",
   "name": "python",
   "nbconvert_exporter": "python",
   "pygments_lexer": "ipython3",
   "version": "3.8.3"
  }
 },
 "nbformat": 4,
 "nbformat_minor": 5
}