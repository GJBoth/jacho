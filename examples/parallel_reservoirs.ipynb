{
 "cells": [
  {
   "cell_type": "markdown",
   "id": "quarterly-tooth",
   "metadata": {},
   "source": [
    "This notebook shows how to run and compare different reservoirs.\n",
    "\n",
    "**Timings are currently off due to not having jitted everything yet.**"
   ]
  },
  {
   "cell_type": "code",
   "execution_count": 10,
   "id": "8bd760c1-1572-49a1-a829-85f1ef69108a",
   "metadata": {},
   "outputs": [
    {
     "name": "stdout",
     "output_type": "stream",
     "text": [
      "The autoreload extension is already loaded. To reload it, use:\n",
      "  %reload_ext autoreload\n"
     ]
    }
   ],
   "source": [
    "from jacho.layers.reservoirs import RandomReservoir, StructuredTransform, FastStructuredTransform, SparseReservoir\n",
    "from jacho.models.generic import GenericEchoState\n",
    "from jacho.layers.output import Residual\n",
    "from jacho.training.training import ridge\n",
    "from jacho.data.KS import KS\n",
    "\n",
    "from jax import random\n",
    "import numpy as np\n",
    "import jax.numpy as jnp\n",
    "from jax import jit\n",
    "from flax import linen as nn\n",
    "from jax import vmap\n",
    "from functools import partial\n",
    "\n",
    "import matplotlib.pyplot as plt\n",
    "\n",
    "key = random.PRNGKey(42)\n",
    "\n",
    "%load_ext autoreload\n",
    "%autoreload 2"
   ]
  },
  {
   "cell_type": "markdown",
   "id": "fcdf537b-66a5-49d0-aeaf-79407ed13d29",
   "metadata": {},
   "source": [
    "# Making data"
   ]
  },
  {
   "cell_type": "code",
   "execution_count": 2,
   "id": "soviet-affairs",
   "metadata": {},
   "outputs": [],
   "source": [
    "# Setting up our dataset; similar to jonathans\n",
    "L = 22 / (2 * np.pi)  # length\n",
    "N = 100  # space discretization step\n",
    "dt = 0.25  # time discretization step\n",
    "N_train = 10000\n",
    "N_test = 2000\n",
    "N_init = 1000  # remove the initial points\n",
    "tend = (N_train + N_test) * dt + N_init\n",
    "\n",
    "np.random.seed(1)\n",
    "dns = KS(L=L, N=N, dt=dt, tend=tend)\n",
    "dns.simulate()"
   ]
  },
  {
   "cell_type": "code",
   "execution_count": 3,
   "id": "reliable-russell",
   "metadata": {},
   "outputs": [],
   "source": [
    "# Prepping train and test matrices\n",
    "# inputs need to be size [time_steps, samples, spatial_points]\n",
    "# i.e. here they are [10000, 1, 100]\n",
    "u = np.expand_dims(dns.uu, axis=1)\n",
    "_, u_train, u_test, _ = np.split(u / np.sqrt(N), \n",
    "                                     [N_init, \n",
    "                                     (N_init + N_train), \n",
    "                                     (N_init + N_train + N_test)], axis=0)"
   ]
  },
  {
   "cell_type": "markdown",
   "id": "2cc7d7ff-d5c4-4d4b-85ec-27b8c49b003b",
   "metadata": {},
   "source": [
    "# Random reservoir"
   ]
  },
  {
   "cell_type": "markdown",
   "id": "c43bd693-6f02-4dc2-9418-65012bcd6173",
   "metadata": {},
   "source": [
    "First one is a fully connected random reservoir:"
   ]
  },
  {
   "cell_type": "code",
   "execution_count": 20,
   "id": "c9568dc9-bbf6-479d-a10a-aa1ddae7d054",
   "metadata": {},
   "outputs": [],
   "source": [
    "# Setting up random model\n",
    "n_reservoir = 100\n",
    "n_models = 10\n",
    "reservoir_args = (0.4, 0.9, 0.4) #input_scale, reservoir_scale, bias_scale\n",
    "\n",
    "n_out = u_train.shape[-1]\n",
    "norm_factor = 1.1 * jnp.sqrt(n_out / n_reservoir)\n",
    "output_layer_args = (norm_factor, )\n",
    "\n",
    "model = GenericEchoState(n_reservoir, RandomReservoir, reservoir_args,\n",
    "                  n_out, Residual, output_layer_args)"
   ]
  },
  {
   "cell_type": "markdown",
   "id": "1f6bab4b-05ab-4459-b408-7487d9d748bd",
   "metadata": {},
   "source": [
    "Simply set parallel_reservoirs to the number you want:"
   ]
  },
  {
   "cell_type": "code",
   "execution_count": 21,
   "id": "32f29441-bbae-4a33-a5b5-cfbb65e73717",
   "metadata": {},
   "outputs": [],
   "source": [
    "state = model.initialize_state(key, n_reservoir, parallel_reservoirs=n_models)"
   ]
  },
  {
   "cell_type": "markdown",
   "id": "5a839569-d791-4f53-a539-bebd40ced99e",
   "metadata": {},
   "source": [
    "First axis is reservoir axis:"
   ]
  },
  {
   "cell_type": "code",
   "execution_count": 22,
   "id": "01eec59f-d2ed-43e9-a45e-78f6af17e6f0",
   "metadata": {},
   "outputs": [
    {
     "data": {
      "text/plain": [
       "(10, 1, 100)"
      ]
     },
     "execution_count": 22,
     "metadata": {},
     "output_type": "execute_result"
    }
   ],
   "source": [
    "state.shape"
   ]
  },
  {
   "cell_type": "markdown",
   "id": "f97cda9b-8a32-4a86-bb47-a843a8602c22",
   "metadata": {},
   "source": [
    "To run the models in parallel, we initialize the model using vmap:"
   ]
  },
  {
   "cell_type": "code",
   "execution_count": 23,
   "id": "0550f54f-0f04-4b77-83af-ab9ea58fc847",
   "metadata": {},
   "outputs": [],
   "source": [
    "params = vmap(model.init, in_axes=(None, 0, None), out_axes=None)(key, state, u_train[0])"
   ]
  },
  {
   "cell_type": "markdown",
   "id": "217ec251-63d4-4f77-aa81-de4745e667cb",
   "metadata": {},
   "source": [
    "Note that the all reservoirs use the same kernel:"
   ]
  },
  {
   "cell_type": "code",
   "execution_count": 24,
   "id": "f0c6dba1-ebb5-4821-8867-97b918ef1a9a",
   "metadata": {},
   "outputs": [
    {
     "data": {
      "text/plain": [
       "(100, 100)"
      ]
     },
     "execution_count": 24,
     "metadata": {},
     "output_type": "execute_result"
    }
   ],
   "source": [
    "params[\"params\"][\"reservoir\"][\"Dense_0\"][\"kernel\"].shape"
   ]
  },
  {
   "cell_type": "markdown",
   "id": "2c45e75e-22ee-4cb7-b7d5-ed4a7a9350c2",
   "metadata": {},
   "source": [
    "If you want to use different weights to truly train multiple models we also parallelize over the keys for different weights and remove out_axes=None"
   ]
  },
  {
   "cell_type": "code",
   "execution_count": 26,
   "id": "e76d0cb7-f2c0-4b37-814a-3c82bb28a538",
   "metadata": {},
   "outputs": [],
   "source": [
    "params = vmap(model.init, in_axes=(0, 0, None))(random.split(key, n_models), state, u_train[0])"
   ]
  },
  {
   "cell_type": "code",
   "execution_count": 27,
   "id": "c8c7be18-56cd-4770-a58f-23b48a4f6df0",
   "metadata": {},
   "outputs": [
    {
     "data": {
      "text/plain": [
       "(10, 100, 100)"
      ]
     },
     "execution_count": 27,
     "metadata": {},
     "output_type": "execute_result"
    }
   ],
   "source": [
    "params[\"params\"][\"reservoir\"][\"Dense_0\"][\"kernel\"].shape"
   ]
  },
  {
   "cell_type": "markdown",
   "id": "c387f46b-a2f3-4f69-8e88-1b9707539bad",
   "metadata": {},
   "source": [
    "See are all different:"
   ]
  },
  {
   "cell_type": "code",
   "execution_count": 28,
   "id": "5253f633-c87f-4e17-89f3-a6c0b6227357",
   "metadata": {},
   "outputs": [
    {
     "data": {
      "text/plain": [
       "DeviceArray([-0.53143334,  0.45951787, -0.17088753, -0.2543605 ,\n",
       "             -0.66390693,  0.5153455 , -0.1227669 , -0.15841977,\n",
       "              0.2611812 , -0.02392638], dtype=float32)"
      ]
     },
     "execution_count": 28,
     "metadata": {},
     "output_type": "execute_result"
    }
   ],
   "source": [
    "params[\"params\"][\"reservoir\"][\"Dense_0\"][\"kernel\"][:, 0, 0]"
   ]
  },
  {
   "cell_type": "markdown",
   "id": "0424c71f-fdd5-40a4-94fb-6ec1a05d8a79",
   "metadata": {},
   "source": [
    "To run the reservoir we again use vmap. For example same data but multiple reservoirs:"
   ]
  },
  {
   "cell_type": "code",
   "execution_count": 29,
   "id": "76702b8d-8ad1-47fc-afec-4c5f61217c0a",
   "metadata": {},
   "outputs": [],
   "source": [
    "_, intermediate_states = vmap(partial(model.apply, method=model.run_reservoir), in_axes=(0, 0, None))(params, state, u_train);"
   ]
  },
  {
   "cell_type": "code",
   "execution_count": 30,
   "id": "332ef629-266c-432b-a17f-6d655c77834a",
   "metadata": {},
   "outputs": [
    {
     "data": {
      "text/plain": [
       "(10, 10000, 1, 100)"
      ]
     },
     "execution_count": 30,
     "metadata": {},
     "output_type": "execute_result"
    }
   ],
   "source": [
    "intermediate_states.shape"
   ]
  },
  {
   "cell_type": "markdown",
   "id": "6c181805-9708-4586-b1ec-b4d4f8d6fe3f",
   "metadata": {},
   "source": [
    "We can also run different data but same reservoir. let's first duplicate the dataL"
   ]
  },
  {
   "cell_type": "code",
   "execution_count": 36,
   "id": "5f7bcc1d-1b97-4a39-924e-c203245dd5eb",
   "metadata": {},
   "outputs": [
    {
     "data": {
      "text/plain": [
       "(10, 10000, 1, 100)"
      ]
     },
     "execution_count": 36,
     "metadata": {},
     "output_type": "execute_result"
    }
   ],
   "source": [
    "u_train_multiple_data = jnp.tile(u_train, (n_models, 1, 1, 1))\n",
    "u_train_multiple_data.shape\n",
    "\n",
    "params = vmap(model.init, in_axes=(None, 0, None), out_axes=None)(key, state, u_train[0]) # correct params"
   ]
  },
  {
   "cell_type": "markdown",
   "id": "b8f80b76-90cd-4e55-b412-f2a515a9efad",
   "metadata": {},
   "source": [
    "Now simply vmap over the state and u_train axis:"
   ]
  },
  {
   "cell_type": "code",
   "execution_count": 43,
   "id": "cbdf2a4c-bfc8-4b6f-88e4-d854a91f03f1",
   "metadata": {},
   "outputs": [],
   "source": [
    "_, intermediate_states = vmap(partial(model.apply, method=model.run_reservoir), in_axes=(None, 0, 0))(params, state, u_train_multiple_data)"
   ]
  },
  {
   "cell_type": "code",
   "execution_count": null,
   "id": "43b085ca-8462-4e10-9475-9dce4f14e728",
   "metadata": {},
   "outputs": [],
   "source": []
  }
 ],
 "metadata": {
  "kernelspec": {
   "display_name": "Python 3",
   "language": "python",
   "name": "python3"
  },
  "language_info": {
   "codemirror_mode": {
    "name": "ipython",
    "version": 3
   },
   "file_extension": ".py",
   "mimetype": "text/x-python",
   "name": "python",
   "nbconvert_exporter": "python",
   "pygments_lexer": "ipython3",
   "version": "3.8.5"
  }
 },
 "nbformat": 4,
 "nbformat_minor": 5
}
